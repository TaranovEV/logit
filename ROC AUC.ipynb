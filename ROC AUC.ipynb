{
 "cells": [
  {
   "cell_type": "code",
   "execution_count": 435,
   "metadata": {},
   "outputs": [],
   "source": [
    "%matplotlib inline\n",
    "import matplotlib.pyplot as plt\n",
    "\n",
    "import numpy as np\n",
    "import pandas as pd\n",
    "from sklearn import metrics\n",
    "from sklearn.linear_model import LogisticRegression\n",
    "import warnings\n",
    "warnings.filterwarnings(\"ignore\")"
   ]
  },
  {
   "cell_type": "code",
   "execution_count": 436,
   "metadata": {},
   "outputs": [],
   "source": [
    "#создадим тензор Х размером 20*3\n",
    "#заполним случайными данными\n",
    "X = np.random.sample((20, 3))\n",
    "#создадим тензор y размером 1*20\n",
    "#заполним случайным образом числами 0 и 1\n",
    "y = np.random.random_integers(0,1,size=20)"
   ]
  },
  {
   "cell_type": "code",
   "execution_count": 420,
   "metadata": {},
   "outputs": [],
   "source": [
    "#обучим логистическую регрессию на данных\n",
    "clf_log_reg = LogisticRegression()\n",
    "clf_log_reg.fit(X,y)\n",
    "#в качестве предсказаний классификатора\n",
    "#возьмем предсказанные вероятности отнесения\n",
    "# к классу 1\n",
    "log_reg_pred = clf_log_reg.predict_proba(X)[:,1]"
   ]
  },
  {
   "cell_type": "code",
   "execution_count": 421,
   "metadata": {},
   "outputs": [],
   "source": [
    "#полученные данные запишем в DataFrame\n",
    "act_pred_table = pd.DataFrame({'Actual_class':y,'Predict_probably_1':log_reg_pred})"
   ]
  },
  {
   "cell_type": "code",
   "execution_count": 422,
   "metadata": {},
   "outputs": [],
   "source": [
    "#Шаг 1. Сортируем все наблюдения по убыванию спрогнозированной вероятности класса 1\n",
    "sort_table = act_pred_table.sort_values(by=['Predict_probably_1'],ascending=False)"
   ]
  },
  {
   "cell_type": "code",
   "execution_count": 423,
   "metadata": {},
   "outputs": [
    {
     "data": {
      "image/png": "[encoded data removed]",
      "text/plain": [
       "<Figure size 900x900 with 2 Axes>"
      ]
     },
     "metadata": {
      "needs_background": "light"
     },
     "output_type": "display_data"
    }
   ],
   "source": [
    "#Шаг 2.Берем единичный квадрат на координатной плоскости,\n",
    "#разбиваем его на m равных частей горизонтальными линиями и \n",
    "#на n – вертикальными, где m – метка класса '1' среди меток теста, \n",
    "#n – число меток '0'.  \n",
    "#В результате квадрат разбивается сеткой на m×n блоков(в приведенном примере 5х15)\n",
    "# Создадим два списка для хранения значений x и y\n",
    "x_values = []\n",
    "y_values = []\n",
    "plt.figure(figsize=(15, 15), dpi= 60)\n",
    "plt.subplot(2,2,1)\n",
    "#Шаг.3 Теперь будем просматривать строки sort_table сверху вниз и \n",
    "#прорисовывать на сетке линии, переходя их одного узла в другой. \n",
    "#Стартуем из точки (0, 0).\n",
    "start = [0,0]\n",
    "plt.plot(start[0],start[1], color='red', marker='o')\n",
    "x_values.append(start[0])\n",
    "y_values.append(start[1])\n",
    "#Если значение метки класса в просматриваемой строке 1, то делаем шаг вверх; \n",
    "#если 0, то делаем шаг вправо.\n",
    "for row in range(len(sort_table)):\n",
    "    past = [start[0],start[1]]\n",
    "    try:\n",
    "        if sort_table.iloc[row,:]['Actual_class']!=\\\n",
    "        sort_table.iloc[row+1,:]['Actual_class']\\\n",
    "        and sort_table.iloc[row,:]['Predict_probably_1']==\\\n",
    "        sort_table.iloc[row+1,:]['Predict_probably_1']:\n",
    "            plt.plot(start[0]+1,start[1]+1, color='red', marker='o')       \n",
    "            start[0]+=1\n",
    "            start[1]+=1\n",
    "            x_values.append(start[0])\n",
    "            y_values.append(start[1])\n",
    "    except IndexError:\n",
    "        pass \n",
    "    if sort_table.iloc[row,:]['Actual_class']==1:\n",
    "            plt.plot(start[0],start[1]+1, color='red', marker='o')\n",
    "            start[1]+=1\n",
    "            plt.vlines(past[0],past[1],start[1],color = 'r')\n",
    "            x_values.append(start[0])\n",
    "            y_values.append(start[1])\n",
    "    else:\n",
    "            plt.plot(start[0]+1,start[1], color='red', marker='o')\n",
    "            start[0]+=1\n",
    "            plt.hlines(past[1],past[0],start[0],color = 'r')\n",
    "            x_values.append(start[0])\n",
    "            y_values.append(start[1])\n",
    "#Далее есть 2 способа посчитать ROC_AUC:\n",
    "#Первый - двигаться по сортированному фрейму снизу вверх и суммировать\n",
    "#количество меток класса 1 находящихся выше наблюдаемого значения\n",
    "list_act_val = list(sort_table[::-1]['Actual_class'])\n",
    "num_cl_1 = 0\n",
    "for el in range(len(list_act_val)):\n",
    "    if list_act_val[el]==0:\n",
    "        num_cl_1+= list_act_val[el:].count(1)\n",
    "        \n",
    "auc = 1/(list_act_val.count(1)*list_act_val.count(0))*num_cl_1\n",
    "#Второй поделить количество ячеек под ROC Curve на общее количество ячеек\n",
    "# в нашем случае 64/75\n",
    "\n",
    "# отрисуем график\n",
    "#  Добавляем линии основной сетки:\n",
    "plt.grid(which='major',\n",
    "        color = 'k')\n",
    "#  Устанавливаем интервал основных делений\n",
    "plt.xticks(list(range(0,16)))\n",
    "plt.yticks(list(range(6)))\n",
    "plt.xlabel('Количество_меток y = 1')\n",
    "plt.ylabel('Количество_меток y = 0')\n",
    "plt.title('ROC_AUC_user')\n",
    "plt.legend(['auc curve:'+str(round(auc,2))],loc='lower right')\n",
    "plt.fill_between(x_values,y_values,color='grey')\n",
    "\n",
    "# убедимся в правильности решения\n",
    "# построим ROC и посчитаем AUC средствами sklearn\n",
    "plt.subplot(2,2,2)\n",
    "fpr, tpr, _ = metrics.roc_curve(y,log_reg_pred)\n",
    "auc_sklearn = metrics.roc_auc_score(y,log_reg_pred)\n",
    "plt.title('ROC_AUC_sklearn')\n",
    "plt.plot(fpr,tpr,label=\"auc=\"+str(round(auc_sklearn,2)))\n",
    "plt.legend(loc=4)\n",
    "plt.tight_layout();"
   ]
  },
  {
   "cell_type": "code",
   "execution_count": null,
   "metadata": {},
   "outputs": [],
   "source": []
  }
 ],
 "metadata": {
  "kernelspec": {
   "display_name": "Python 3",
   "language": "python",
   "name": "python3"
  },
  "language_info": {
   "codemirror_mode": {
    "name": "ipython",
    "version": 3
   },
   "file_extension": ".py",
   "mimetype": "text/x-python",
   "name": "python",
   "nbconvert_exporter": "python",
   "pygments_lexer": "ipython3",
   "version": "3.7.6"
  }
 },
 "nbformat": 4,
 "nbformat_minor": 4
}
